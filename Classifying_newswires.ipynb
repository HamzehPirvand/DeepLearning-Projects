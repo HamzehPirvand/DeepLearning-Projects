{
  "nbformat": 4,
  "nbformat_minor": 0,
  "metadata": {
    "colab": {
      "name": "Classifying newswires.ipynb",
      "provenance": []
    },
    "kernelspec": {
      "name": "python3",
      "display_name": "Python 3"
    },
    "accelerator": "GPU"
  },
  "cells": [
    {
      "cell_type": "code",
      "metadata": {
        "id": "PnfaeOot4esp",
        "outputId": "f1f75174-d460-4e09-dbd2-3a49db6331c6",
        "colab": {
          "base_uri": "https://localhost:8080/",
          "height": 54
        }
      },
      "source": [
        "from keras.datasets import reuters\n",
        "\n",
        "(train_data, train_labels), (test_data, test_labels)=reuters.load_data(num_words=10000)"
      ],
      "execution_count": 1,
      "outputs": [
        {
          "output_type": "stream",
          "text": [
            "Downloading data from https://storage.googleapis.com/tensorflow/tf-keras-datasets/reuters.npz\n",
            "2113536/2110848 [==============================] - 0s 0us/step\n"
          ],
          "name": "stdout"
        }
      ]
    },
    {
      "cell_type": "code",
      "metadata": {
        "id": "-2Pr7VxVXxRL",
        "outputId": "2120993f-cdf9-4d74-9a2f-60f0bde1d373",
        "colab": {
          "base_uri": "https://localhost:8080/",
          "height": 35
        }
      },
      "source": [
        "len(train_data)"
      ],
      "execution_count": 2,
      "outputs": [
        {
          "output_type": "execute_result",
          "data": {
            "text/plain": [
              "8982"
            ]
          },
          "metadata": {
            "tags": []
          },
          "execution_count": 2
        }
      ]
    },
    {
      "cell_type": "code",
      "metadata": {
        "id": "79FrezUjX2RS",
        "outputId": "037b6f1c-06ac-477b-834e-14f8b017c71b",
        "colab": {
          "base_uri": "https://localhost:8080/",
          "height": 35
        }
      },
      "source": [
        "len(test_data)"
      ],
      "execution_count": 3,
      "outputs": [
        {
          "output_type": "execute_result",
          "data": {
            "text/plain": [
              "2246"
            ]
          },
          "metadata": {
            "tags": []
          },
          "execution_count": 3
        }
      ]
    },
    {
      "cell_type": "code",
      "metadata": {
        "id": "jxFCAUqvX4mk",
        "outputId": "de3548bc-a5ef-4bb9-c968-0659a1f222de",
        "colab": {
          "base_uri": "https://localhost:8080/",
          "height": 581
        }
      },
      "source": [
        "train_data[10]"
      ],
      "execution_count": 4,
      "outputs": [
        {
          "output_type": "execute_result",
          "data": {
            "text/plain": [
              "[1,\n",
              " 245,\n",
              " 273,\n",
              " 207,\n",
              " 156,\n",
              " 53,\n",
              " 74,\n",
              " 160,\n",
              " 26,\n",
              " 14,\n",
              " 46,\n",
              " 296,\n",
              " 26,\n",
              " 39,\n",
              " 74,\n",
              " 2979,\n",
              " 3554,\n",
              " 14,\n",
              " 46,\n",
              " 4689,\n",
              " 4329,\n",
              " 86,\n",
              " 61,\n",
              " 3499,\n",
              " 4795,\n",
              " 14,\n",
              " 61,\n",
              " 451,\n",
              " 4329,\n",
              " 17,\n",
              " 12]"
            ]
          },
          "metadata": {
            "tags": []
          },
          "execution_count": 4
        }
      ]
    },
    {
      "cell_type": "code",
      "metadata": {
        "id": "abMnoDjlYJ5h",
        "outputId": "9b00e1c9-1306-4f98-be0b-7c7752847946",
        "colab": {
          "base_uri": "https://localhost:8080/",
          "height": 54
        }
      },
      "source": [
        "word_index=reuters.get_word_index()\n",
        "reverse_word_index=dict([(value, key) for (key, value) in word_index.items()])\n",
        "\n",
        "decoded_newswire=' '.join([reverse_word_index.get(i - 3, '?') for i in train_data[0]])"
      ],
      "execution_count": 6,
      "outputs": [
        {
          "output_type": "stream",
          "text": [
            "Downloading data from https://storage.googleapis.com/tensorflow/tf-keras-datasets/reuters_word_index.json\n",
            "557056/550378 [==============================] - 0s 0us/step\n"
          ],
          "name": "stdout"
        }
      ]
    },
    {
      "cell_type": "code",
      "metadata": {
        "id": "UOnv_VdPY72y",
        "outputId": "e6620a51-b4cb-4fd9-ff50-84f36cc886d4",
        "colab": {
          "base_uri": "https://localhost:8080/",
          "height": 72
        }
      },
      "source": [
        "decoded_newswire"
      ],
      "execution_count": 7,
      "outputs": [
        {
          "output_type": "execute_result",
          "data": {
            "application/vnd.google.colaboratory.intrinsic+json": {
              "type": "string"
            },
            "text/plain": [
              "'? ? ? said as a result of its december acquisition of space co it expects earnings per share in 1987 of 1 15 to 1 30 dlrs per share up from 70 cts in 1986 the company said pretax net should rise to nine to 10 mln dlrs from six mln dlrs in 1986 and rental operation revenues to 19 to 22 mln dlrs from 12 5 mln dlrs it said cash flow per share this year should be 2 50 to three dlrs reuter 3'"
            ]
          },
          "metadata": {
            "tags": []
          },
          "execution_count": 7
        }
      ]
    },
    {
      "cell_type": "code",
      "metadata": {
        "id": "pz3V1V2FZCX_",
        "outputId": "d331fab8-fa1e-404f-a1e0-bf79a444ac71",
        "colab": {
          "base_uri": "https://localhost:8080/",
          "height": 35
        }
      },
      "source": [
        "train_labels[10]"
      ],
      "execution_count": 8,
      "outputs": [
        {
          "output_type": "execute_result",
          "data": {
            "text/plain": [
              "3"
            ]
          },
          "metadata": {
            "tags": []
          },
          "execution_count": 8
        }
      ]
    },
    {
      "cell_type": "code",
      "metadata": {
        "id": "EyO912SJZRz3"
      },
      "source": [
        "import numpy as np\n",
        "\n",
        "def vectorize_sequences(sequences, dimension=10000):\n",
        "  results=np.zeros((len(sequences), dimension))\n",
        "  for i, sequence in enumerate(sequences):\n",
        "    results[i, sequence]=1.\n",
        "  return results\n",
        "\n",
        "x_train=vectorize_sequences(train_data)\n",
        "x_test=vectorize_sequences(test_data)\n"
      ],
      "execution_count": 10,
      "outputs": []
    },
    {
      "cell_type": "code",
      "metadata": {
        "id": "ta8ke4uPaaqW"
      },
      "source": [
        "def to_one_hot(labels, dimension=46):\n",
        "  results=np.zeros((len(labels), dimension))\n",
        "  for i, label in enumerate(labels):\n",
        "    results[i, label]=1.\n",
        "  return results\n",
        "\n",
        "one_hot_train_labels=to_one_hot(train_labels)\n",
        "one_hot_test_labels=to_one_hot(test_labels)"
      ],
      "execution_count": 11,
      "outputs": []
    },
    {
      "cell_type": "code",
      "metadata": {
        "id": "sgfrQOISbcjF"
      },
      "source": [
        "from keras.utils.np_utils import to_categorical\n",
        "\n",
        "one_hot_train_labels=to_categorical(train_labels)\n",
        "one_hot_test_labels=to_categorical(test_labels)"
      ],
      "execution_count": 12,
      "outputs": []
    },
    {
      "cell_type": "code",
      "metadata": {
        "id": "zmmj9O86cEVL"
      },
      "source": [
        "from keras import models\n",
        "from keras import layers\n",
        "\n",
        "model=models.Sequential()\n",
        "model.add(layers.Dense(64, activation='relu', input_shape=(10000,)))\n",
        "model.add(layers.Dense(64, activation='relu'))\n",
        "model.add(layers.Dense(46, activation='softmax'))"
      ],
      "execution_count": 13,
      "outputs": []
    },
    {
      "cell_type": "code",
      "metadata": {
        "id": "yEVZ1S7TcyZU"
      },
      "source": [
        "model.compile(optimizer='rmsprop',\n",
        "              loss='categorical_crossentropy',\n",
        "              metrics=['accuracy'])"
      ],
      "execution_count": 14,
      "outputs": []
    },
    {
      "cell_type": "code",
      "metadata": {
        "id": "_ti06JH4dBio"
      },
      "source": [
        "x_val=x_train[:1000]\n",
        "partial_x_train=x_train[1000:]\n",
        "\n",
        "y_val=one_hot_train_labels[:1000]\n",
        "partial_y_train=one_hot_train_labels[1000:]"
      ],
      "execution_count": 16,
      "outputs": []
    },
    {
      "cell_type": "code",
      "metadata": {
        "id": "3RBxEDy_eBEL",
        "outputId": "02f7e14a-3865-4866-dc5b-51dacfc18415",
        "colab": {
          "base_uri": "https://localhost:8080/",
          "height": 745
        }
      },
      "source": [
        "history = model.fit(partial_x_train,\n",
        "                    partial_y_train,\n",
        "                    epochs=20,\n",
        "                    batch_size=512,\n",
        "                    validation_data=(x_val, y_val))"
      ],
      "execution_count": 18,
      "outputs": [
        {
          "output_type": "stream",
          "text": [
            "Epoch 1/20\n",
            "16/16 [==============================] - 0s 16ms/step - loss: 0.1115 - accuracy: 0.9567 - val_loss: 1.0624 - val_accuracy: 0.8030\n",
            "Epoch 2/20\n",
            "16/16 [==============================] - 0s 14ms/step - loss: 0.1073 - accuracy: 0.9567 - val_loss: 1.1042 - val_accuracy: 0.8010\n",
            "Epoch 3/20\n",
            "16/16 [==============================] - 0s 14ms/step - loss: 0.1061 - accuracy: 0.9585 - val_loss: 1.0968 - val_accuracy: 0.8000\n",
            "Epoch 4/20\n",
            "16/16 [==============================] - 0s 13ms/step - loss: 0.1010 - accuracy: 0.9584 - val_loss: 1.0908 - val_accuracy: 0.8030\n",
            "Epoch 5/20\n",
            "16/16 [==============================] - 0s 13ms/step - loss: 0.1038 - accuracy: 0.9572 - val_loss: 1.1140 - val_accuracy: 0.8020\n",
            "Epoch 6/20\n",
            "16/16 [==============================] - 0s 13ms/step - loss: 0.0974 - accuracy: 0.9558 - val_loss: 1.1298 - val_accuracy: 0.8020\n",
            "Epoch 7/20\n",
            "16/16 [==============================] - 0s 14ms/step - loss: 0.1010 - accuracy: 0.9565 - val_loss: 1.1865 - val_accuracy: 0.7960\n",
            "Epoch 8/20\n",
            "16/16 [==============================] - 0s 13ms/step - loss: 0.0946 - accuracy: 0.9593 - val_loss: 1.1406 - val_accuracy: 0.8030\n",
            "Epoch 9/20\n",
            "16/16 [==============================] - 0s 13ms/step - loss: 0.0941 - accuracy: 0.9587 - val_loss: 1.1999 - val_accuracy: 0.7940\n",
            "Epoch 10/20\n",
            "16/16 [==============================] - 0s 14ms/step - loss: 0.0964 - accuracy: 0.9569 - val_loss: 1.2037 - val_accuracy: 0.7920\n",
            "Epoch 11/20\n",
            "16/16 [==============================] - 0s 14ms/step - loss: 0.0942 - accuracy: 0.9612 - val_loss: 1.2155 - val_accuracy: 0.8000\n",
            "Epoch 12/20\n",
            "16/16 [==============================] - 0s 13ms/step - loss: 0.0935 - accuracy: 0.9572 - val_loss: 1.1997 - val_accuracy: 0.8020\n",
            "Epoch 13/20\n",
            "16/16 [==============================] - 0s 14ms/step - loss: 0.0909 - accuracy: 0.9585 - val_loss: 1.1973 - val_accuracy: 0.7970\n",
            "Epoch 14/20\n",
            "16/16 [==============================] - 0s 13ms/step - loss: 0.0906 - accuracy: 0.9592 - val_loss: 1.2237 - val_accuracy: 0.7940\n",
            "Epoch 15/20\n",
            "16/16 [==============================] - 0s 13ms/step - loss: 0.0928 - accuracy: 0.9595 - val_loss: 1.2630 - val_accuracy: 0.7880\n",
            "Epoch 16/20\n",
            "16/16 [==============================] - 0s 13ms/step - loss: 0.0884 - accuracy: 0.9589 - val_loss: 1.2660 - val_accuracy: 0.7940\n",
            "Epoch 17/20\n",
            "16/16 [==============================] - 0s 13ms/step - loss: 0.0893 - accuracy: 0.9592 - val_loss: 1.2792 - val_accuracy: 0.7860\n",
            "Epoch 18/20\n",
            "16/16 [==============================] - 0s 13ms/step - loss: 0.0891 - accuracy: 0.9583 - val_loss: 1.3089 - val_accuracy: 0.7900\n",
            "Epoch 19/20\n",
            "16/16 [==============================] - 0s 14ms/step - loss: 0.0856 - accuracy: 0.9573 - val_loss: 1.3160 - val_accuracy: 0.7910\n",
            "Epoch 20/20\n",
            "16/16 [==============================] - 0s 13ms/step - loss: 0.0876 - accuracy: 0.9589 - val_loss: 1.2999 - val_accuracy: 0.7820\n"
          ],
          "name": "stdout"
        }
      ]
    },
    {
      "cell_type": "code",
      "metadata": {
        "id": "XNNJWmbkeHHZ",
        "outputId": "6e09bad4-aa22-48e7-cd21-1994a40eac99",
        "colab": {
          "base_uri": "https://localhost:8080/",
          "height": 326
        }
      },
      "source": [
        "model=models.Sequential()\n",
        "model.add(layers.Dense(64, activation='relu', input_shape=(10000,)))\n",
        "model.add(layers.Dense(64, activation='relu'))\n",
        "model.add(layers.Dense(46, activation='softmax'))\n",
        "\n",
        "model.compile(optimizer='rmsprop',\n",
        "              loss='categorical_crossentropy',\n",
        "              metrics=['accuracy'])\n",
        "\n",
        "model.fit(partial_x_train,\n",
        "          partial_y_train,\n",
        "          epochs=8,\n",
        "          batch_size=512,\n",
        "          validation_data=(x_val, y_val))\n",
        "results=model.evaluate(x_test, one_hot_test_labels)"
      ],
      "execution_count": 20,
      "outputs": [
        {
          "output_type": "stream",
          "text": [
            "Epoch 1/8\n",
            "16/16 [==============================] - 0s 20ms/step - loss: 2.5812 - accuracy: 0.5304 - val_loss: 1.7114 - val_accuracy: 0.6370\n",
            "Epoch 2/8\n",
            "16/16 [==============================] - 0s 13ms/step - loss: 1.4276 - accuracy: 0.7077 - val_loss: 1.3086 - val_accuracy: 0.7130\n",
            "Epoch 3/8\n",
            "16/16 [==============================] - 0s 13ms/step - loss: 1.0750 - accuracy: 0.7707 - val_loss: 1.1458 - val_accuracy: 0.7570\n",
            "Epoch 4/8\n",
            "16/16 [==============================] - 0s 13ms/step - loss: 0.8510 - accuracy: 0.8217 - val_loss: 1.0374 - val_accuracy: 0.7830\n",
            "Epoch 5/8\n",
            "16/16 [==============================] - 0s 13ms/step - loss: 0.6783 - accuracy: 0.8569 - val_loss: 0.9715 - val_accuracy: 0.8030\n",
            "Epoch 6/8\n",
            "16/16 [==============================] - 0s 14ms/step - loss: 0.5419 - accuracy: 0.8880 - val_loss: 0.9264 - val_accuracy: 0.8040\n",
            "Epoch 7/8\n",
            "16/16 [==============================] - 0s 13ms/step - loss: 0.4378 - accuracy: 0.9095 - val_loss: 0.9036 - val_accuracy: 0.8060\n",
            "Epoch 8/8\n",
            "16/16 [==============================] - 0s 12ms/step - loss: 0.3557 - accuracy: 0.9267 - val_loss: 0.8827 - val_accuracy: 0.8220\n",
            "71/71 [==============================] - 0s 2ms/step - loss: 0.9852 - accuracy: 0.7867\n"
          ],
          "name": "stdout"
        }
      ]
    },
    {
      "cell_type": "code",
      "metadata": {
        "id": "FHHrNWemhYcM",
        "outputId": "166083b4-0d01-4284-b76e-da7638cfe9a4",
        "colab": {
          "base_uri": "https://localhost:8080/",
          "height": 35
        }
      },
      "source": [
        "results"
      ],
      "execution_count": 21,
      "outputs": [
        {
          "output_type": "execute_result",
          "data": {
            "text/plain": [
              "[0.9852004647254944, 0.7867319583892822]"
            ]
          },
          "metadata": {
            "tags": []
          },
          "execution_count": 21
        }
      ]
    }
  ]
}